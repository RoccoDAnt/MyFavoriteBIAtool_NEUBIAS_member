{
 "cells": [
  {
   "cell_type": "code",
   "execution_count": 1,
   "id": "79700dd8-8778-4ab6-9846-55f506edbc37",
   "metadata": {},
   "outputs": [],
   "source": [
    "%gui qt\n",
    "from skimage import io\n",
    "import napari\n",
    "\n",
    "myImage=io.imread('Documents/GitHub/MyFavoriteBIAtool_NEUBIAS_member/myImage.tif')\n",
    "viewer = napari.view_image(myImage)"
   ]
  },
  {
   "cell_type": "code",
   "execution_count": 2,
   "id": "e4f2d501-47e0-4843-8d53-06b58c667a42",
   "metadata": {},
   "outputs": [
    {
     "data": {
      "text/plain": [
       "<Image layer 'Labelled objects' at 0x135c2e93308>"
      ]
     },
     "execution_count": 2,
     "metadata": {},
     "output_type": "execute_result"
    }
   ],
   "source": [
    "import numpy as np\n",
    "from scipy import ndimage as ndi\n",
    "from skimage.segmentation import watershed\n",
    "from skimage.feature import peak_local_max\n",
    "from skimage.filters import gaussian\n",
    "\n",
    "gf_image=gaussian(myImage, sigma=1)\n",
    "binary=gf_image>0.2\n",
    "distance = ndi.distance_transform_edt(binary)\n",
    "coords = peak_local_max(distance, footprint=np.ones((3, 3)), labels=binary)\n",
    "mask = np.zeros(distance.shape, dtype=bool)\n",
    "mask[tuple(coords.T)] = True\n",
    "markers, _ = ndi.label(mask)\n",
    "labels = watershed(-distance, markers, mask=binary)\n",
    "viewer.add_image(labels, rgb=False, name='Labelled objects', opacity=0.6, colormap='inferno')"
   ]
  }
 ],
 "metadata": {
  "kernelspec": {
   "display_name": "Python 3",
   "language": "python",
   "name": "python3"
  },
  "language_info": {
   "codemirror_mode": {
    "name": "ipython",
    "version": 3
   },
   "file_extension": ".py",
   "mimetype": "text/x-python",
   "name": "python",
   "nbconvert_exporter": "python",
   "pygments_lexer": "ipython3",
   "version": "3.7.10"
  }
 },
 "nbformat": 4,
 "nbformat_minor": 5
}
